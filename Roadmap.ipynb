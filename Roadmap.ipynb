{
 "cells": [
  {
   "cell_type": "markdown",
   "id": "871728e3",
   "metadata": {},
   "source": [
    "# The PS\n",
    "\n",
    "## 🧿 Overview\n",
    "\n",
    "Simulate the orbital interaction between two bodies under Newtonian gravity. The simulation should be **interactive**, **visual**, and **numerically accurate**.\n",
    "\n",
    "## 🎯 Objective\n",
    "\n",
    "Participants must build a 2D simulation that allows users to:\n",
    "\n",
    "- Set initial **positions, velocities, and masses** for two bodies\n",
    "- Visualize dynamic **orbital paths**\n",
    "- Interact with the system in real-time (modify parameters, pause/reset)\n",
    "- Optionally include: collision detection, escape conditions, or a center-of-mass reference frame\n",
    "\n",
    "## 💬 Modeling & Numerical Integration\n",
    "\n",
    "Participants must model gravitational interactions and implement a numerical solver (e.g., **Verlet, Runge-Kutta**, or similar) to update the system state over time. Precision and stability are key.\n",
    "\n",
    "> **No physics equations are given** — teams are expected to derive and implement appropriate force models and solvers.\n",
    "\n",
    "## 📊 Simulation Requirements\n",
    "\n",
    "- Real-time visualization of body positions and orbit trails\n",
    "- Parameter controls: mass, position, velocity\n",
    "- Smooth animations and user feedback\n",
    "- Optional enhancements: elastic collisions, escape paths, center-of-mass tracking\n",
    "\n",
    "## 🏅 Scoring (100 Points Total)\n",
    "\n",
    "| Criteria                                              | Points |\n",
    "|-------------------------------------------------------|--------|\n",
    "| Accurate physics modeling (gravitational dynamics)     | 40     |\n",
    "| Numerical integration (stability, accuracy)            | 20     |\n",
    "| UI interactivity (controls, reset, etc.)               | 15     |\n",
    "| Visualization quality (orbits, trails)                 | 10     |\n",
    "| Code clarity & responsiveness                         | 10     |\n",
    "| Optional enhancements (collisions, etc.)               | 5 to 15    |\n"
   ]
  },
  {
   "cell_type": "markdown",
   "id": "eb7da260",
   "metadata": {},
   "source": [
    "# The Roadmap"
   ]
  },
  {
   "cell_type": "markdown",
   "id": "8fc51d57",
   "metadata": {},
   "source": [
    "## 1. UIUX\n",
    "### Entry screen\n",
    "A basic background,\\\n",
    "entry fields m1m2,v1v2, x1x2\n",
    "Button to start\n",
    "### Simulation screen\n",
    "#### Data box\n",
    "Live data casting m1m2,v1v2, x1x2, images of the planets corresponding to the data.\n",
    "#### Simulation window\n",
    "images of the planets, along with velocity vector. Show the full trail with the transparency function defined in the algo part\n",
    "#### Control Box\n",
    "Pause/Resume and Reset as seperate buttons\\\n",
    "##### Modify live parameters after pausing, \n",
    "changes gets applied after pushing a modify button\n",
    "1. A modify button, entry fields are not shown\n",
    "2. When it is pressed, program pauses, and entry fields apper with the current parameters, and input boxes, m1m2,v1v2, x1x2, along with an apply button while the modify button remains highlighted.\n",
    "3. You enter the data, and press the apply button.\n",
    "4. After that, the parameters are updated, and the simulation resumes. Entry field and the apply button disappear again. The modify button becomes unhighlighted\n",
    "\n",
    "##### On pressing reset\n",
    "The simulation stops abruptly, previous data is deleted, screen state changes back to entry screen."
   ]
  },
  {
   "cell_type": "markdown",
   "id": "f3a0f6c2",
   "metadata": {},
   "source": [
    "\n",
    "## 2. Algo\n",
    "### Inputs\n",
    "1. Position of two bodies\n",
    "2. initial velocities of two bodies\n",
    "3. masses"
   ]
  },
  {
   "cell_type": "markdown",
   "id": "c64866e4",
   "metadata": {},
   "source": [
    "\n",
    "### Outputs\n",
    "1. $x(t)$ for both bodies\n",
    "2. $x'(t)$ for both bodies\n",
    "3. Trail of the com.\n",
    "    1. Transperency function as T(t)\n",
    "Extras\n",
    "4. Real time modifications of position velocity mass\n",
    "5. ISR Pause or reset\n"
   ]
  },
  {
   "cell_type": "markdown",
   "id": "cea7d966",
   "metadata": {},
   "source": [
    "### Processing\n",
    "1. derive the differential equation\n",
    "2. solve it numerically\n",
    "3. Choose a numerical method\n",
    "    1. Verlet\n",
    "    2. Runge-Kutta\n",
    "    3. Implement sophisticated methods like adaptive step size, etc."
   ]
  },
  {
   "cell_type": "markdown",
   "id": "a4bf9024",
   "metadata": {},
   "source": []
  }
 ],
 "metadata": {
  "language_info": {
   "name": "python"
  }
 },
 "nbformat": 4,
 "nbformat_minor": 5
}
