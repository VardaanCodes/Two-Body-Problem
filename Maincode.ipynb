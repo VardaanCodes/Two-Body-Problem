{
 "cells": [
  {
   "cell_type": "markdown",
   "id": "745700d2",
   "metadata": {},
   "source": [
    "# Discussing the numerical algorithm"
   ]
  },
  {
   "cell_type": "code",
   "execution_count": null,
   "id": "2149f69b",
   "metadata": {},
   "outputs": [],
   "source": [
    "import matplotlib.pyplot as plt\n",
    "import numpy as np\n",
    "import scipy\n",
    "import sympy"
   ]
  },
  {
   "cell_type": "code",
   "execution_count": 9,
   "id": "6b60e03a",
   "metadata": {},
   "outputs": [],
   "source": [
    "# Defining the variables\n",
    "# rinp = input(\"Enter coordinates of r1 in x, y coordinates seperated by space, assuming com as origin\").split(\" \")\n",
    "rinp = [10,20]\n",
    "r1 = np.array([int(rinp[0]),int(rinp[1])])\n",
    "# massin = input(\"Enter mass of both the objects seperated by space\").split(\" \") # take inputs\n",
    "massin = [2, 1]\n",
    "m1, m2 = int(massin[0]), int(massin[1]) # take inputs\n",
    "# vinp = input(\"Enter velocitiy vector of r1 in x, y coordinates seperated by space, assuming com as origin\").split(\" \")\n",
    "vinp = [20,10]\n",
    "v1 = np.array([int(vinp[0]),int(vinp[1])])\n",
    "\n",
    "r2 = -m1/m2*r1\n",
    "v2 = -m1/m2*v1\n",
    "FPS = 30"
   ]
  },
  {
   "cell_type": "markdown",
   "id": "d5a79a5c",
   "metadata": {},
   "source": [
    "Given that the origin is the Centre of Mass, \n",
    "$$\n",
    "m1r1+m2r2 = 0\n",
    "\\implies r2 = -\\frac{m1r1}{m2}\n",
    "$$"
   ]
  },
  {
   "cell_type": "code",
   "execution_count": 24,
   "id": "0f548d58",
   "metadata": {},
   "outputs": [],
   "source": [
    "GravConst = 20\n",
    "class Planet:\n",
    "    def __init__(self, post, vel, mass):\n",
    "        self.mass = mass\n",
    "        self.post = post\n",
    "        self.vel = vel\n",
    "    \n",
    "    def attracts(self,other):\n",
    "        relpost = self.post-other.post\n",
    "        factor = GravConst*self.mass*other.mass/((np.linalg.norm(relpost))**3)\n",
    "        self.GForce = -factor*relpost\n",
    "        return self.GForce"
   ]
  },
  {
   "cell_type": "code",
   "execution_count": null,
   "id": "f1e7a068",
   "metadata": {},
   "outputs": [
    {
     "data": {
      "text/plain": [
       "array([-0.00397523, -0.00795046])"
      ]
     },
     "execution_count": 25,
     "metadata": {},
     "output_type": "execute_result"
    }
   ],
   "source": [
    "body1 = Planet(r1, v1, m1)\n",
    "body2 = Planet(r2, v2, m2)\n",
    "bodies = [body1, body2]\n"
   ]
  },
  {
   "cell_type": "code",
   "execution_count": null,
   "id": "9a0fb0be",
   "metadata": {},
   "outputs": [],
   "source": []
  }
 ],
 "metadata": {
  "kernelspec": {
   "display_name": "Python 3",
   "language": "python",
   "name": "python3"
  },
  "language_info": {
   "codemirror_mode": {
    "name": "ipython",
    "version": 3
   },
   "file_extension": ".py",
   "mimetype": "text/x-python",
   "name": "python",
   "nbconvert_exporter": "python",
   "pygments_lexer": "ipython3",
   "version": "3.10.0"
  }
 },
 "nbformat": 4,
 "nbformat_minor": 5
}
